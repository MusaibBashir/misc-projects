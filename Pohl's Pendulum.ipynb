{
  "cells": [
    {
      "cell_type": "markdown",
      "metadata": {
        "id": "view-in-github",
        "colab_type": "text"
      },
      "source": [
        "<a href=\"https://colab.research.google.com/github/MusaibBashir/misc-projects/blob/main/Pohl's%20Pendulum.ipynb\" target=\"_parent\"><img src=\"https://colab.research.google.com/assets/colab-badge.svg\" alt=\"Open In Colab\"/></a>"
      ]
    },
    {
      "cell_type": "markdown",
      "id": "11c5c14c-db4f-4eac-a553-34827ebeffab",
      "metadata": {
        "id": "11c5c14c-db4f-4eac-a553-34827ebeffab"
      },
      "source": [
        "<center>\n",
        "    <h4></h4>\n",
        "    <h1>Pohl's Pendulum</h1>\n",
        "    <h4>~Musaib Bin Bashir</h4>\n",
        "</center>"
      ]
    },
    {
      "cell_type": "markdown",
      "source": [
        "Note: Fill the amplitudes for a single current value, process table 2,3. Then change the amplitude for some other current value, and repeat"
      ],
      "metadata": {
        "id": "aFTtQHyh7oh8"
      },
      "id": "aFTtQHyh7oh8"
    },
    {
      "cell_type": "code",
      "execution_count": null,
      "id": "cd7ea15b-97cd-4885-a06f-2f1ef88891a9",
      "metadata": {
        "id": "cd7ea15b-97cd-4885-a06f-2f1ef88891a9"
      },
      "outputs": [],
      "source": [
        "import numpy as np\n",
        "import matplotlib.pyplot as plt\n",
        "import seaborn as sns\n",
        "from tabulate import tabulate"
      ]
    },
    {
      "cell_type": "code",
      "execution_count": null,
      "id": "4bf6f05f-d280-41da-b884-1a3964c4f2ab",
      "metadata": {
        "id": "4bf6f05f-d280-41da-b884-1a3964c4f2ab"
      },
      "outputs": [],
      "source": [
        "class Table2:\n",
        "    def __init__(self, curr, amp,T):\n",
        "        self.amp=amp\n",
        "        self.T=T\n",
        "        self.curr=curr\n",
        "    def ln(self):\n",
        "        ln_values = np.log(self.amp)\n",
        "        self.ln_values=ln_values\n",
        "    def printer(self):\n",
        "        if self.ln_values is None:\n",
        "            print(\"Error: Call ln() method first to compute natural logarithm values.\")\n",
        "            return\n",
        "\n",
        "        headers = [\"Time\", \"Amplitude\", \"ln(\\u03C6)a\", \"Time\", \"Amplitude\", \"ln(\\u03C6)b\"]\n",
        "        data = []\n",
        "        left_times = []\n",
        "        right_times = []\n",
        "        for i in range(len(self.amp)):\n",
        "            if i % 2 == 0:\n",
        "                left_times.append((f\"{i//2}T\", self.amp[i], self.ln_values[i]))\n",
        "            else:\n",
        "                right_times.append((f\"{i}T/2\", self.amp[i], self.ln_values[i]))\n",
        "\n",
        "        max_rows = max(len(left_times), len(right_times))\n",
        "        for i in range(max_rows):\n",
        "            left = left_times[i] if i < len(left_times) else (\"\", \"\", \"\")\n",
        "            right = right_times[i] if i < len(right_times) else (\"\", \"\", \"\")\n",
        "            data.append([left[0], left[1], left[2], right[0], right[1], right[2]])\n",
        "\n",
        "        print(tabulate(data, headers=headers, tablefmt=\"grid\"))\n",
        "    def plot_graph(self):\n",
        "        plt.figure(figsize=(8,8))\n",
        "        time = np.arange(0, (len(self.amp)) * (self.T) * 0.5, 0.5 * (self.T))\n",
        "        sns.scatterplot(x=time, y=self.ln_values)\n",
        "        plt.xlabel(\"Time\")\n",
        "        plt.ylabel(\"ln(\\u03C6)\")\n",
        "        plt.title(f\"ln(\\u03C6) vs. Time for Damping current={self.curr}\")\n",
        "        plt.grid()\n",
        "        plt.show()\n",
        "    def eval(self):\n",
        "        self.ln()\n",
        "        self.printer()\n",
        "        self.plot_graph()"
      ]
    },
    {
      "cell_type": "markdown",
      "id": "a2bd6660-5920-480e-845b-0e570a6fe956",
      "metadata": {
        "id": "a2bd6660-5920-480e-845b-0e570a6fe956"
      },
      "source": [
        "### Change this cell, and fill in your values of amplitude in increasing order (0,T/2,T,3T/2,2T...):"
      ]
    },
    {
      "cell_type": "code",
      "execution_count": null,
      "id": "6a9ffc13-095d-4ce1-ab84-93e4858df51a",
      "metadata": {
        "id": "6a9ffc13-095d-4ce1-ab84-93e4858df51a"
      },
      "outputs": [],
      "source": [
        "amplitude=np.array([17.8,18.6,17.4,18.2,17,17.8,16.6,17.2,16.2,16.8,15.8,16.2,15.4,15.8,15,15.4,14.6,15,14.2,14.6,13.8,14,13.2,13.6,13,13.2,12.6,12.8,12.2,12.4,11.8,12.0,11.4,11.8,11.0,11.2,10.6,10.8,10.2,10.4])"
      ]
    },
    {
      "cell_type": "markdown",
      "id": "d97b57f9-3fbc-48ff-a665-8d14dbbbeccf",
      "metadata": {
        "id": "d97b57f9-3fbc-48ff-a665-8d14dbbbeccf"
      },
      "source": [
        "### Change this cell according to the current and corresponding Time Period(T) from Table 1:"
      ]
    },
    {
      "cell_type": "code",
      "execution_count": null,
      "id": "867a6c35-54e8-451a-a2b2-0910f50f2cc8",
      "metadata": {
        "id": "867a6c35-54e8-451a-a2b2-0910f50f2cc8"
      },
      "outputs": [],
      "source": [
        "T=1.945\n",
        "damping_current=0"
      ]
    },
    {
      "cell_type": "markdown",
      "id": "aa347f3c-b207-4e8a-85a7-1eb21797b0d9",
      "metadata": {
        "id": "aa347f3c-b207-4e8a-85a7-1eb21797b0d9"
      },
      "source": [
        "### This will give you values for Table 2 :"
      ]
    },
    {
      "cell_type": "code",
      "execution_count": null,
      "id": "95ab3e05-398b-4f1b-96ce-f2d6e3b1cd47",
      "metadata": {
        "colab": {
          "base_uri": "https://localhost:8080/",
          "height": 1000
        },
        "id": "95ab3e05-398b-4f1b-96ce-f2d6e3b1cd47",
        "outputId": "f55b67e0-0c6b-43d5-974c-d483c2d45f74"
      },
      "outputs": [
        {
          "output_type": "stream",
          "name": "stdout",
          "text": [
            "+--------+-------------+----------+--------+-------------+----------+\n",
            "| Time   |   Amplitude |   ln(φ)a | Time   |   Amplitude |   ln(φ)b |\n",
            "+========+=============+==========+========+=============+==========+\n",
            "| 0T     |        17.8 |  2.8792  | 1T/2   |        18.6 |  2.92316 |\n",
            "+--------+-------------+----------+--------+-------------+----------+\n",
            "| 1T     |        17.4 |  2.85647 | 3T/2   |        18.2 |  2.90142 |\n",
            "+--------+-------------+----------+--------+-------------+----------+\n",
            "| 2T     |        17   |  2.83321 | 5T/2   |        17.8 |  2.8792  |\n",
            "+--------+-------------+----------+--------+-------------+----------+\n",
            "| 3T     |        16.6 |  2.8094  | 7T/2   |        17.2 |  2.84491 |\n",
            "+--------+-------------+----------+--------+-------------+----------+\n",
            "| 4T     |        16.2 |  2.78501 | 9T/2   |        16.8 |  2.82138 |\n",
            "+--------+-------------+----------+--------+-------------+----------+\n",
            "| 5T     |        15.8 |  2.76001 | 11T/2  |        16.2 |  2.78501 |\n",
            "+--------+-------------+----------+--------+-------------+----------+\n",
            "| 6T     |        15.4 |  2.73437 | 13T/2  |        15.8 |  2.76001 |\n",
            "+--------+-------------+----------+--------+-------------+----------+\n",
            "| 7T     |        15   |  2.70805 | 15T/2  |        15.4 |  2.73437 |\n",
            "+--------+-------------+----------+--------+-------------+----------+\n",
            "| 8T     |        14.6 |  2.68102 | 17T/2  |        15   |  2.70805 |\n",
            "+--------+-------------+----------+--------+-------------+----------+\n",
            "| 9T     |        14.2 |  2.65324 | 19T/2  |        14.6 |  2.68102 |\n",
            "+--------+-------------+----------+--------+-------------+----------+\n",
            "| 10T    |        13.8 |  2.62467 | 21T/2  |        14   |  2.63906 |\n",
            "+--------+-------------+----------+--------+-------------+----------+\n",
            "| 11T    |        13.2 |  2.58022 | 23T/2  |        13.6 |  2.61007 |\n",
            "+--------+-------------+----------+--------+-------------+----------+\n",
            "| 12T    |        13   |  2.56495 | 25T/2  |        13.2 |  2.58022 |\n",
            "+--------+-------------+----------+--------+-------------+----------+\n",
            "| 13T    |        12.6 |  2.5337  | 27T/2  |        12.8 |  2.54945 |\n",
            "+--------+-------------+----------+--------+-------------+----------+\n",
            "| 14T    |        12.2 |  2.50144 | 29T/2  |        12.4 |  2.5177  |\n",
            "+--------+-------------+----------+--------+-------------+----------+\n",
            "| 15T    |        11.8 |  2.4681  | 31T/2  |        12   |  2.48491 |\n",
            "+--------+-------------+----------+--------+-------------+----------+\n",
            "| 16T    |        11.4 |  2.43361 | 33T/2  |        11.8 |  2.4681  |\n",
            "+--------+-------------+----------+--------+-------------+----------+\n",
            "| 17T    |        11   |  2.3979  | 35T/2  |        11.2 |  2.41591 |\n",
            "+--------+-------------+----------+--------+-------------+----------+\n",
            "| 18T    |        10.6 |  2.36085 | 37T/2  |        10.8 |  2.37955 |\n",
            "+--------+-------------+----------+--------+-------------+----------+\n",
            "| 19T    |        10.2 |  2.32239 | 39T/2  |        10.4 |  2.34181 |\n",
            "+--------+-------------+----------+--------+-------------+----------+\n"
          ]
        },
        {
          "output_type": "display_data",
          "data": {
            "text/plain": [
              "<Figure size 800x800 with 1 Axes>"
            ],
            "image/png": "[encoded data removed]"
          },
          "metadata": {}
        }
      ],
      "source": [
        "T2=Table2(damping_current,amplitude,T)\n",
        "T2.eval()"
      ]
    },
    {
      "cell_type": "code",
      "execution_count": null,
      "id": "f3bad78d-873f-498e-a98c-4489a066f272",
      "metadata": {
        "id": "f3bad78d-873f-498e-a98c-4489a066f272"
      },
      "outputs": [],
      "source": [
        "class Table3:\n",
        "    def __init__(self,curr,amp,ln_val,T):\n",
        "        self.curr=curr\n",
        "        self.amp=amp\n",
        "        self.ln_val=ln_val\n",
        "        self.T=T\n",
        "        self.logd=None\n",
        "        self.w=None\n",
        "        self.b=None\n",
        "        self.w_res=None\n",
        "        self.ln_a_ratio=[]\n",
        "        self.ln_b_ratio=[]\n",
        "    def lmd(self):\n",
        "        ln_A = self.amp[::2]\n",
        "        ln_B = self.amp[1::2]\n",
        "        for i in range(len(ln_A)-1):\n",
        "            self.ln_a_ratio.append(np.log(ln_A[i]/ln_A[i+1]))\n",
        "        for i in range(len(ln_B)-1):\n",
        "            self.ln_b_ratio.append(np.log(ln_B[i]/ln_B[i+1]))\n",
        "    def value_calc(self):\n",
        "        self.logd=(np.mean(self.ln_a_ratio)+np.mean(self.ln_b_ratio))/2\n",
        "        self.w=(2*np.pi)/self.T\n",
        "        self.b=self.logd/self.T\n",
        "        self.w_res=((self.w)**2-(self.b)**2)**0.5\n",
        "    def printer_funct(self):\n",
        "        headers = [\"Current\", \"ln_a_ratio\", \"ln_b_ratio\", \"Lambda(λ)\", \"T\", \"Beta(β)\", \"W_res\"]\n",
        "        data = []\n",
        "        max_rows = max(len(self.ln_a_ratio), len(self.ln_b_ratio))\n",
        "\n",
        "        for i in range(max_rows):\n",
        "            row = [\n",
        "                self.curr if i == 0 else \"\",\n",
        "                f\"{self.ln_a_ratio[i]:.5f}\" if i < len(self.ln_a_ratio) else \"\",\n",
        "                f\"{self.ln_b_ratio[i]:.5f}\" if i < len(self.ln_b_ratio) else \"\",\n",
        "                f\"{self.logd:.5f}\" if i == 0 else \"\",\n",
        "                f\"{self.T}\" if i == 0 else \"\",\n",
        "                f\"{self.b:.5f}\" if i == 0 else \"\",\n",
        "                f\"{self.w_res:.5f}\" if i == 0 else \"\"\n",
        "            ]\n",
        "            data.append(row)\n",
        "\n",
        "        print(tabulate(data, headers=headers, tablefmt=\"grid\"))\n",
        "    def evaluate(self):\n",
        "        self.lmd()\n",
        "        self.value_calc()\n",
        "        self.printer_funct()"
      ]
    },
    {
      "cell_type": "markdown",
      "id": "4a54375d-741e-426c-896d-963a29ab64ca",
      "metadata": {
        "id": "4a54375d-741e-426c-896d-963a29ab64ca"
      },
      "source": [
        "### Run this cell as is, it will give you values for Table 3:"
      ]
    },
    {
      "cell_type": "code",
      "execution_count": null,
      "id": "07789c01-6bfb-4292-a1f3-b3045ae9ef3f",
      "metadata": {
        "colab": {
          "base_uri": "https://localhost:8080/"
        },
        "id": "07789c01-6bfb-4292-a1f3-b3045ae9ef3f",
        "outputId": "4dda522d-6239-4859-8c9e-8aca424a0134"
      },
      "outputs": [
        {
          "output_type": "stream",
          "name": "stdout",
          "text": [
            "+-----------+--------------+--------------+-------------+-------+-----------+---------+\n",
            "| Current   |   ln_a_ratio |   ln_b_ratio | Lambda(λ)   | T     | Beta(β)   | W_res   |\n",
            "+===========+==============+==============+=============+=======+===========+=========+\n",
            "| 0         |      0.02273 |      0.02174 | 0.02995     | 1.945 | 0.01540   | 3.23039 |\n",
            "+-----------+--------------+--------------+-------------+-------+-----------+---------+\n",
            "|           |      0.02326 |      0.02222 |             |       |           |         |\n",
            "+-----------+--------------+--------------+-------------+-------+-----------+---------+\n",
            "|           |      0.02381 |      0.03429 |             |       |           |         |\n",
            "+-----------+--------------+--------------+-------------+-------+-----------+---------+\n",
            "|           |      0.02439 |      0.02353 |             |       |           |         |\n",
            "+-----------+--------------+--------------+-------------+-------+-----------+---------+\n",
            "|           |      0.025   |      0.03637 |             |       |           |         |\n",
            "+-----------+--------------+--------------+-------------+-------+-----------+---------+\n",
            "|           |      0.02564 |      0.025   |             |       |           |         |\n",
            "+-----------+--------------+--------------+-------------+-------+-----------+---------+\n",
            "|           |      0.02632 |      0.02564 |             |       |           |         |\n",
            "+-----------+--------------+--------------+-------------+-------+-----------+---------+\n",
            "|           |      0.02703 |      0.02632 |             |       |           |         |\n",
            "+-----------+--------------+--------------+-------------+-------+-----------+---------+\n",
            "|           |      0.02778 |      0.02703 |             |       |           |         |\n",
            "+-----------+--------------+--------------+-------------+-------+-----------+---------+\n",
            "|           |      0.02857 |      0.04196 |             |       |           |         |\n",
            "+-----------+--------------+--------------+-------------+-------+-----------+---------+\n",
            "|           |      0.04445 |      0.02899 |             |       |           |         |\n",
            "+-----------+--------------+--------------+-------------+-------+-----------+---------+\n",
            "|           |      0.01527 |      0.02985 |             |       |           |         |\n",
            "+-----------+--------------+--------------+-------------+-------+-----------+---------+\n",
            "|           |      0.03125 |      0.03077 |             |       |           |         |\n",
            "+-----------+--------------+--------------+-------------+-------+-----------+---------+\n",
            "|           |      0.03226 |      0.03175 |             |       |           |         |\n",
            "+-----------+--------------+--------------+-------------+-------+-----------+---------+\n",
            "|           |      0.03334 |      0.03279 |             |       |           |         |\n",
            "+-----------+--------------+--------------+-------------+-------+-----------+---------+\n",
            "|           |      0.03449 |      0.01681 |             |       |           |         |\n",
            "+-----------+--------------+--------------+-------------+-------+-----------+---------+\n",
            "|           |      0.03572 |      0.05219 |             |       |           |         |\n",
            "+-----------+--------------+--------------+-------------+-------+-----------+---------+\n",
            "|           |      0.03704 |      0.03637 |             |       |           |         |\n",
            "+-----------+--------------+--------------+-------------+-------+-----------+---------+\n",
            "|           |      0.03847 |      0.03774 |             |       |           |         |\n",
            "+-----------+--------------+--------------+-------------+-------+-----------+---------+\n"
          ]
        }
      ],
      "source": [
        "T3=Table3(0,amplitude,T2.ln_values,T)\n",
        "T3.evaluate()"
      ]
    },
    {
      "cell_type": "code",
      "execution_count": null,
      "id": "8bd72ebb-52bd-4e50-960a-6006d2096e01",
      "metadata": {
        "id": "8bd72ebb-52bd-4e50-960a-6006d2096e01"
      },
      "outputs": [],
      "source": [
        "class Table4:\n",
        "    def __init__(self,T):\n",
        "        self.T=np.array(T)\n",
        "        self.freq=None\n",
        "    def calc(self):\n",
        "        self.freq=(2*np.pi)/self.T\n",
        "    def printer_func(self):\n",
        "        headers = [\"T_avg\", \"Freq of osc.\"]\n",
        "        data = [[T_val, f\"{freq_val:.3f}\"] for T_val, freq_val in zip(self.T, self.freq)]\n",
        "        print(tabulate(data, headers=headers, tablefmt=\"grid\"))\n",
        "    def eval(self):\n",
        "        self.calc()\n",
        "        self.printer_func()"
      ]
    },
    {
      "cell_type": "markdown",
      "id": "7fee77ca-56c8-4d1c-a613-3dfc51b10390",
      "metadata": {
        "id": "7fee77ca-56c8-4d1c-a613-3dfc51b10390"
      },
      "source": [
        "### Change this cell and modify the values according to T_avg values from Table 4:"
      ]
    },
    {
      "cell_type": "code",
      "execution_count": null,
      "id": "35d98603-ff2e-4586-a2e7-50952623aefd",
      "metadata": {
        "id": "35d98603-ff2e-4586-a2e7-50952623aefd"
      },
      "outputs": [],
      "source": [
        "Tavg=np.array([5.93,2.77,2.37,2.08,1.76])"
      ]
    },
    {
      "cell_type": "markdown",
      "id": "e8401e4e-d9e0-4eb9-84e0-daa0c255c550",
      "metadata": {
        "id": "e8401e4e-d9e0-4eb9-84e0-daa0c255c550"
      },
      "source": [
        "### Running this cell will give you values of corresponding frequency"
      ]
    },
    {
      "cell_type": "code",
      "execution_count": null,
      "id": "59462f66-d852-447d-9fcc-cd9dd574d51e",
      "metadata": {
        "colab": {
          "base_uri": "https://localhost:8080/"
        },
        "id": "59462f66-d852-447d-9fcc-cd9dd574d51e",
        "outputId": "9b85bc31-37f3-4ae6-9625-fb885ebd799a"
      },
      "outputs": [
        {
          "output_type": "stream",
          "name": "stdout",
          "text": [
            "+---------+----------------+\n",
            "|   T_avg |   Freq of osc. |\n",
            "+=========+================+\n",
            "|    5.93 |          1.06  |\n",
            "+---------+----------------+\n",
            "|    2.77 |          2.268 |\n",
            "+---------+----------------+\n",
            "|    2.37 |          2.651 |\n",
            "+---------+----------------+\n",
            "|    2.08 |          3.021 |\n",
            "+---------+----------------+\n",
            "|    1.76 |          3.57  |\n",
            "+---------+----------------+\n"
          ]
        }
      ],
      "source": [
        "T4=Table4(Tavg)\n",
        "T4.eval()"
      ]
    },
    {
      "cell_type": "code",
      "execution_count": null,
      "id": "a70fee01-78fc-431d-be65-e3d992795c3f",
      "metadata": {
        "id": "a70fee01-78fc-431d-be65-e3d992795c3f"
      },
      "outputs": [],
      "source": []
    }
  ],
  "metadata": {
    "kernelspec": {
      "display_name": "Python 3 (ipykernel)",
      "language": "python",
      "name": "python3"
    },
    "language_info": {
      "codemirror_mode": {
        "name": "ipython",
        "version": 3
      },
      "file_extension": ".py",
      "mimetype": "text/x-python",
      "name": "python",
      "nbconvert_exporter": "python",
      "pygments_lexer": "ipython3",
      "version": "3.12.9"
    },
    "colab": {
      "provenance": [],
      "include_colab_link": true
    }
  },
  "nbformat": 4,
  "nbformat_minor": 5
}